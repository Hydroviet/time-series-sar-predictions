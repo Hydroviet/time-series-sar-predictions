{
 "cells": [
  {
   "cell_type": "code",
   "execution_count": 1,
   "metadata": {},
   "outputs": [
    {
     "name": "stderr",
     "output_type": "stream",
     "text": [
      "Using TensorFlow backend.\n"
     ]
    }
   ],
   "source": [
    "import os\n",
    "import numpy as np\n",
    "import tensorflow as tf\n",
    "\n",
    "'''\n",
    "import keras\n",
    "from keras.layers import BatchNormalization, TimeDistributed\n",
    "'''\n",
    "\n",
    "import tensorflow.keras as keras\n",
    "from tensorflow.python.keras.layers import BatchNormalization, TimeDistributed\n",
    "from tensorflow.python.keras.utils import Sequence\n",
    "from tensorflow.python.keras.layers import Dropout\n",
    "from tensorflow.python.keras import backend as K\n",
    "\n",
    "\n",
    "from modis_utils.generators import OneOutputGenerator\n",
    "from modis_utils.misc import get_data_test, get_target_test, cache_data, restore_data\n",
    "from modis_utils.model.core import compile_model, conv_lstm_2D, conv_2D\n",
    "from modis_utils.model.loss_function import mse_with_mask, mse_with_mask_batch\n",
    "from modis_utils.model.eval import predict_and_visualize_by_data_file_one_output\n",
    "from tensorflow.python.keras import optimizers\n"
   ]
  },
  {
   "cell_type": "code",
   "execution_count": 1,
   "metadata": {},
   "outputs": [],
   "source": [
    "def PSNRLoss(y_true, y_pred):\n",
    "    return -10. * K.log(K.mean(K.square(y_pred - y_true))) / K.log(10.)"
   ]
  },
  {
   "cell_type": "code",
   "execution_count": 2,
   "metadata": {},
   "outputs": [],
   "source": [
    "class MyGenerator(Sequence):\n",
    "    def __init__(self, data_filenames, batch_size):\n",
    "        self.data_filenames = data_filenames\n",
    "        self.batch_size = batch_size\n",
    "\n",
    "    def __len__(self):\n",
    "        return len(self.data_filenames)\n",
    "    \n",
    "    def __getitem__(self, idx):         \n",
    "        data = restore_data('output/{0}'.format(self.data_filenames[idx]))\n",
    "        i = idx \n",
    "        batch_X = np.expand_dims(np.expand_dims(data[:-1,:,:], axis=0), axis=-1)\n",
    "        batch_Y = np.expand_dims(np.expand_dims(data[-1,:,:], axis=0), axis=-1) \n",
    "        \n",
    "        __max__ = 17.0\n",
    "        __min__ = -34.0\n",
    "        __range__ = __max__ - __min__\n",
    "        \n",
    "        X = (batch_X - __min__) / __range__\n",
    "        Y = (batch_Y - __min__) / __range__\n",
    "        \n",
    "        return (X, Y)\n",
    "\n",
    "\n",
    "listFile = os.listdir('output/')\n",
    "nTrain = int(len(listFile) * 0.55)\n",
    "nVal = int(len(listFile) * 0.35)\n",
    "trainFiles = listFile[:nTrain]\n",
    "valFiles = listFile[nTrain:nTrain+nVal]\n",
    "testFiles = listFile[nTrain+nVal:]\n",
    "\n",
    "trainGenerator = MyGenerator(trainFiles, 1)\n",
    "valGenerator = MyGenerator(valFiles, 1)\n",
    "\n",
    "\n",
    "input_timesteps = 12\n",
    "img_height = 128\n",
    "img_width = 128\n",
    "\n",
    "\n",
    "opt = optimizers.Adam(lr=0.0001)\n",
    "# opt = optimizers.SGD(lr=0.00005)\n",
    "\n",
    "input_shape = (input_timesteps, img_height, img_width, 1)\n",
    "compile_params = {'optimizer': opt, 'loss': 'mse', 'metrics': [PSNRLoss]}\n",
    "\n",
    "# Model architecture\n",
    "source = keras.Input(name='seed', shape=input_shape, dtype=tf.float32)\n",
    "model = conv_lstm_2D(filters=64, kernel_size=3, strides=1,padding='same')(source)\n",
    "model = BatchNormalization()(model)\n",
    "model = conv_lstm_2D(filters=64, kernel_size=3, strides=1,padding='same')(model)\n",
    "model = BatchNormalization()(model)\n",
    "model = conv_lstm_2D(filters=64, kernel_size=3, strides=1,padding='same')(model)\n",
    "model = BatchNormalization()(model)\n",
    "model = conv_lstm_2D(filters=64, kernel_size=3, strides=1,padding='same')(model)\n",
    "model = BatchNormalization()(model)\n",
    "model = conv_lstm_2D(filters=64, kernel_size=3, strides=1,padding='same', return_sequences=False)(model)\n",
    "model = BatchNormalization()(model)\n",
    "\n",
    "predict_img = conv_2D(filters=1, kernel_size=3, strides=1,padding='same')(model)\n",
    "model = keras.Model(inputs=[source], outputs=[predict_img])\n",
    "\n",
    "model = compile_model(model, compile_params)\n",
    "history = model.fit_generator( generator=trainGenerator, steps_per_epoch=nTrain, epochs=50, validation_data=valGenerator, validation_steps=2000)"
   ]
  },
  {
   "cell_type": "code",
   "execution_count": 4,
   "metadata": {
    "scrolled": false
   },
   "outputs": [
    {
     "name": "stdout",
     "output_type": "stream",
     "text": [
      "Epoch 1/50\n",
      "3080/3080 [==============================] - 4952s 2s/step - loss: 0.1582 - PSNRLoss: 8.6975 - val_loss: 0.0765 - val_PSNRLoss: 11.3207\n",
      "Epoch 2/50\n",
      "3080/3080 [==============================] - 4940s 2s/step - loss: 0.0776 - PSNRLoss: 11.2850 - val_loss: 0.0660 - val_PSNRLoss: 11.9060\n",
      "Epoch 3/50\n",
      "3080/3080 [==============================] - 4939s 2s/step - loss: 0.0565 - PSNRLoss: 12.6044 - val_loss: 0.0485 - val_PSNRLoss: 13.2281\n",
      "Epoch 4/50\n",
      "3080/3080 [==============================] - 4945s 2s/step - loss: 0.0482 - PSNRLoss: 13.3024 - val_loss: 0.0439 - val_PSNRLoss: 13.6830\n",
      "Epoch 5/50\n",
      "3080/3080 [==============================] - 4940s 2s/step - loss: 0.0411 - PSNRLoss: 13.9981 - val_loss: 0.0340 - val_PSNRLoss: 14.8073\n",
      "Epoch 6/50\n",
      "3080/3080 [==============================] - 4949s 2s/step - loss: 0.0351 - PSNRLoss: 14.6971 - val_loss: 0.0287 - val_PSNRLoss: 15.5029\n",
      "Epoch 7/50\n",
      "3080/3080 [==============================] - 4950s 2s/step - loss: 0.0317 - PSNRLoss: 15.1328 - val_loss: 0.0276 - val_PSNRLoss: 15.6859\n",
      "Epoch 8/50\n",
      "3080/3080 [==============================] - 4955s 2s/step - loss: 0.0300 - PSNRLoss: 15.3659 - val_loss: 0.0261 - val_PSNRLoss: 15.9357\n",
      "Epoch 9/50\n",
      "3080/3080 [==============================] - 4948s 2s/step - loss: 0.0290 - PSNRLoss: 15.5217 - val_loss: 0.0250 - val_PSNRLoss: 16.1104\n",
      "Epoch 10/50\n",
      "3080/3080 [==============================] - 4944s 2s/step - loss: 0.0281 - PSNRLoss: 15.6600 - val_loss: 0.0238 - val_PSNRLoss: 16.3107\n",
      "Epoch 11/50\n",
      "3080/3080 [==============================] - 4947s 2s/step - loss: 0.0274 - PSNRLoss: 15.7669 - val_loss: 0.0238 - val_PSNRLoss: 16.3221\n",
      "Epoch 12/50\n",
      "3080/3080 [==============================] - 4945s 2s/step - loss: 0.0269 - PSNRLoss: 15.8433 - val_loss: 0.0231 - val_PSNRLoss: 16.4501\n",
      "Epoch 13/50\n",
      "3080/3080 [==============================] - 4938s 2s/step - loss: 0.0264 - PSNRLoss: 15.9323 - val_loss: 0.0229 - val_PSNRLoss: 16.4817\n",
      "Epoch 14/50\n",
      "3080/3080 [==============================] - 4933s 2s/step - loss: 0.0259 - PSNRLoss: 16.0042 - val_loss: 0.0225 - val_PSNRLoss: 16.5726\n",
      "Epoch 15/50\n",
      "3080/3080 [==============================] - 4936s 2s/step - loss: 0.0255 - PSNRLoss: 16.0682 - val_loss: 0.0220 - val_PSNRLoss: 16.6721\n",
      "Epoch 16/50\n",
      "3080/3080 [==============================] - 4934s 2s/step - loss: 0.0252 - PSNRLoss: 16.1261 - val_loss: 0.0216 - val_PSNRLoss: 16.7411\n",
      "Epoch 17/50\n",
      "3080/3080 [==============================] - 4933s 2s/step - loss: 0.0249 - PSNRLoss: 16.1689 - val_loss: 0.0217 - val_PSNRLoss: 16.7021\n",
      "Epoch 18/50\n",
      "3080/3080 [==============================] - 4932s 2s/step - loss: 0.0385 - PSNRLoss: 14.8189 - val_loss: 0.0346 - val_PSNRLoss: 14.7849\n",
      "Epoch 19/50\n",
      "3080/3080 [==============================] - 4935s 2s/step - loss: 0.0369 - PSNRLoss: 14.8138 - val_loss: 0.0185 - val_PSNRLoss: 17.5192\n",
      "Epoch 20/50\n",
      "3080/3080 [==============================] - 4933s 2s/step - loss: 0.0214 - PSNRLoss: 17.0527 - val_loss: 0.0138 - val_PSNRLoss: 18.8376\n",
      "Epoch 21/50\n",
      "3080/3080 [==============================] - 4935s 2s/step - loss: 0.0185 - PSNRLoss: 17.7476 - val_loss: 0.0121 - val_PSNRLoss: 19.4158\n",
      "Epoch 22/50\n",
      "3080/3080 [==============================] - 4938s 2s/step - loss: 0.0164 - PSNRLoss: 18.3120 - val_loss: 0.0116 - val_PSNRLoss: 19.6989\n",
      "Epoch 23/50\n",
      "3080/3080 [==============================] - 4933s 2s/step - loss: 0.0649 - PSNRLoss: 12.8638 - val_loss: 0.0280 - val_PSNRLoss: 15.7052\n",
      "Epoch 24/50\n",
      "3080/3080 [==============================] - 4933s 2s/step - loss: 0.0331 - PSNRLoss: 15.1232 - val_loss: 0.0199 - val_PSNRLoss: 17.2089\n",
      "Epoch 25/50\n",
      "3080/3080 [==============================] - 4932s 2s/step - loss: 0.0264 - PSNRLoss: 16.1711 - val_loss: 0.0166 - val_PSNRLoss: 17.9587\n",
      "Epoch 26/50\n",
      "3080/3080 [==============================] - 4936s 2s/step - loss: 0.0234 - PSNRLoss: 16.7239 - val_loss: 0.0172 - val_PSNRLoss: 18.0233\n",
      "Epoch 27/50\n",
      "3080/3080 [==============================] - 4934s 2s/step - loss: 0.0207 - PSNRLoss: 17.2807 - val_loss: 0.0144 - val_PSNRLoss: 18.7010\n",
      "Epoch 28/50\n",
      "3080/3080 [==============================] - 4937s 2s/step - loss: 0.0192 - PSNRLoss: 17.6456 - val_loss: 0.0132 - val_PSNRLoss: 19.0877\n",
      "Epoch 29/50\n",
      "3080/3080 [==============================] - 4943s 2s/step - loss: 0.0186 - PSNRLoss: 17.8029 - val_loss: 0.0136 - val_PSNRLoss: 18.9688\n",
      "Epoch 30/50\n",
      "3080/3080 [==============================] - 4939s 2s/step - loss: 0.0176 - PSNRLoss: 18.0718 - val_loss: 0.0122 - val_PSNRLoss: 19.4535\n",
      "Epoch 31/50\n",
      "3080/3080 [==============================] - 4937s 2s/step - loss: 0.0166 - PSNRLoss: 18.3375 - val_loss: 0.0114 - val_PSNRLoss: 19.7510\n",
      "Epoch 32/50\n",
      "3080/3080 [==============================] - 4934s 2s/step - loss: 0.0159 - PSNRLoss: 18.5556 - val_loss: 0.0110 - val_PSNRLoss: 20.0304\n",
      "Epoch 33/50\n",
      "3080/3080 [==============================] - 4935s 2s/step - loss: 0.0154 - PSNRLoss: 18.7142 - val_loss: 0.0107 - val_PSNRLoss: 20.1526\n",
      "Epoch 34/50\n",
      "3080/3080 [==============================] - 4947s 2s/step - loss: 0.0152 - PSNRLoss: 18.7724 - val_loss: 0.0106 - val_PSNRLoss: 20.1597\n",
      "Epoch 35/50\n",
      "3080/3080 [==============================] - 4936s 2s/step - loss: 0.0147 - PSNRLoss: 18.9269 - val_loss: 0.0107 - val_PSNRLoss: 20.1798\n",
      "Epoch 36/50\n",
      "3080/3080 [==============================] - 4937s 2s/step - loss: 0.0143 - PSNRLoss: 19.0634 - val_loss: 0.0098 - val_PSNRLoss: 20.5370\n",
      "Epoch 37/50\n",
      "3080/3080 [==============================] - 4934s 2s/step - loss: 0.0140 - PSNRLoss: 19.1764 - val_loss: 0.0095 - val_PSNRLoss: 20.7162\n",
      "Epoch 38/50\n",
      "3080/3080 [==============================] - 4935s 2s/step - loss: 0.0137 - PSNRLoss: 19.2766 - val_loss: 0.0095 - val_PSNRLoss: 20.7145\n",
      "Epoch 39/50\n",
      "3080/3080 [==============================] - 4935s 2s/step - loss: 0.0134 - PSNRLoss: 19.3632 - val_loss: 0.0095 - val_PSNRLoss: 20.7743\n",
      "Epoch 40/50\n",
      "3080/3080 [==============================] - 4936s 2s/step - loss: 0.0132 - PSNRLoss: 19.4453 - val_loss: 0.0089 - val_PSNRLoss: 21.0113\n",
      "Epoch 41/50\n",
      "3080/3080 [==============================] - 4941s 2s/step - loss: 0.0130 - PSNRLoss: 19.5234 - val_loss: 0.0096 - val_PSNRLoss: 20.7309\n",
      "Epoch 42/50\n",
      "3080/3080 [==============================] - 4934s 2s/step - loss: 0.0134 - PSNRLoss: 19.3584 - val_loss: 0.0095 - val_PSNRLoss: 20.7226\n",
      "Epoch 43/50\n",
      "3080/3080 [==============================] - 4946s 2s/step - loss: 0.0128 - PSNRLoss: 19.5850 - val_loss: 0.0089 - val_PSNRLoss: 21.0556\n",
      "Epoch 44/50\n",
      "3080/3080 [==============================] - 4932s 2s/step - loss: 0.0126 - PSNRLoss: 19.6748 - val_loss: 0.0088 - val_PSNRLoss: 21.0725\n",
      "Epoch 45/50\n",
      "3080/3080 [==============================] - 4935s 2s/step - loss: 0.0124 - PSNRLoss: 19.7554 - val_loss: 0.0092 - val_PSNRLoss: 20.9424\n",
      "Epoch 46/50\n",
      "3080/3080 [==============================] - 4943s 2s/step - loss: 0.0122 - PSNRLoss: 19.8306 - val_loss: 0.0089 - val_PSNRLoss: 21.0490\n",
      "Epoch 47/50\n",
      "3080/3080 [==============================] - 4933s 2s/step - loss: 0.0121 - PSNRLoss: 19.8924 - val_loss: 0.0085 - val_PSNRLoss: 21.2053\n",
      "Epoch 48/50\n",
      "3080/3080 [==============================] - 4933s 2s/step - loss: 0.0119 - PSNRLoss: 19.9535 - val_loss: 0.0084 - val_PSNRLoss: 21.3289\n",
      "Epoch 49/50\n",
      "3080/3080 [==============================] - 4935s 2s/step - loss: 0.0118 - PSNRLoss: 20.0060 - val_loss: 0.0087 - val_PSNRLoss: 21.1659\n",
      "Epoch 50/50\n",
      "3080/3080 [==============================] - 4935s 2s/step - loss: 0.0117 - PSNRLoss: 20.0558 - val_loss: 0.0085 - val_PSNRLoss: 21.3046\n"
     ]
    }
   ],
   "source": [
    "\n",
    "model.save_weights('sgd_weights_final.h5', overwrite=True)\n",
    "# "
   ]
  },
  {
   "cell_type": "code",
   "execution_count": 5,
   "metadata": {},
   "outputs": [
    {
     "data": {
      "text/plain": [
       "dict_keys(['val_loss', 'val_PSNRLoss', 'loss', 'PSNRLoss'])"
      ]
     },
     "execution_count": 5,
     "metadata": {},
     "output_type": "execute_result"
    }
   ],
   "source": [
    "history.history.keys()"
   ]
  },
  {
   "cell_type": "code",
   "execution_count": 6,
   "metadata": {},
   "outputs": [
    {
     "data": {
      "image/png": "[encoded data removed]",
      "text/plain": [
       "<Figure size 432x288 with 1 Axes>"
      ]
     },
     "metadata": {},
     "output_type": "display_data"
    }
   ],
   "source": [
    "from matplotlib import pyplot as plt\n",
    "plt.plot(history.history['loss'])\n",
    "plt.plot(history.history['val_loss'])\n",
    "plt.title('model mse loss')\n",
    "plt.ylabel('loss')\n",
    "plt.xlabel('epoch')\n",
    "plt.legend(['train', 'test'], loc='upper left')\n",
    "plt.show()"
   ]
  },
  {
   "cell_type": "code",
   "execution_count": 7,
   "metadata": {},
   "outputs": [
    {
     "data": {
      "image/png": "[encoded data removed]",
      "text/plain": [
       "<Figure size 432x288 with 1 Axes>"
      ]
     },
     "metadata": {},
     "output_type": "display_data"
    }
   ],
   "source": [
    "from matplotlib import pyplot as plt\n",
    "plt.plot(history.history['PSNRLoss'])\n",
    "plt.plot(history.history['val_PSNRLoss'])\n",
    "plt.title('model  psnr')\n",
    "plt.ylabel('loss')\n",
    "plt.xlabel('epoch')\n",
    "plt.legend(['train', 'test'], loc='upper left')\n",
    "plt.show()"
   ]
  }
 ],
 "metadata": {
  "kernelspec": {
   "display_name": "Python 3",
   "language": "python",
   "name": "python3"
  },
  "language_info": {
   "codemirror_mode": {
    "name": "ipython",
    "version": 3
   },
   "file_extension": ".py",
   "mimetype": "text/x-python",
   "name": "python",
   "nbconvert_exporter": "python",
   "pygments_lexer": "ipython3",
   "version": "3.6.7"
  }
 },
 "nbformat": 4,
 "nbformat_minor": 2
}
